{
  "nbformat": 4,
  "nbformat_minor": 0,
  "metadata": {
    "colab": {
      "provenance": []
    },
    "kernelspec": {
      "name": "python3",
      "display_name": "Python 3"
    },
    "language_info": {
      "name": "python"
    }
  },
  "cells": [
    {
      "cell_type": "code",
      "execution_count": 9,
      "metadata": {
        "colab": {
          "base_uri": "https://localhost:8080/"
        },
        "id": "EMzbBP7ER3qu",
        "outputId": "c199ad66-dfee-47ca-a6af-eae3b89ae98e"
      },
      "outputs": [
        {
          "output_type": "stream",
          "name": "stderr",
          "text": [
            "[nltk_data] Downloading package vader_lexicon to /root/nltk_data...\n",
            "[nltk_data]   Package vader_lexicon is already up-to-date!\n"
          ]
        }
      ],
      "source": [
        "from urllib.request import urlopen, Request\n",
        "from bs4 import BeautifulSoup\n",
        "import os\n",
        "import pandas as pd\n",
        "import matplotlib.pyplot as plt\n",
        "%matplotlib inline\n",
        "\n",
        "import nltk\n",
        "nltk.downloader.download('vader_lexicon')\n",
        "from nltk.sentiment.vader import SentimentIntensityAnalyzer"
      ]
    },
    {
      "cell_type": "code",
      "source": [
        "finwiz_url = 'https://finviz.com/quote.ashx?t='\n",
        "news_tables = {}\n",
        "tickers = ['AMZN', 'TSLA', 'GOOG']\n",
        "for ticker in tickers:\n",
        "    url = finwiz_url + ticker\n",
        "    req = Request(url=url,headers={'User-Agent': 'Mozilla/5.0 (Windows NT 6.1; WOW64; rv:20.0) Gecko/20100101 Firefox/20.0'}) \n",
        "    response = urlopen(req)    \n",
        "    html = BeautifulSoup(response)\n",
        "    news_table = html.find(id='news-table')\n",
        "    news_tables[ticker] = news_table"
      ],
      "metadata": {
        "id": "w6juI64NR6-Y"
      },
      "execution_count": 18,
      "outputs": []
    },
    {
      "cell_type": "code",
      "source": [
        "# Read one single day of headlines for ‘AMZN’ \n",
        "amzn = news_tables['AMZN']\n",
        "# Get all the table rows tagged in HTML with <tr> into ‘amzn_tr’\n",
        "amzn_tr = amzn.findAll('tr')\n",
        "for i, table_row in enumerate(amzn_tr):\n",
        " # Read the text of the element ‘a’ into ‘link_text’\n",
        " a_text = table_row.a.text\n",
        " # Read the text of the element ‘td’ into ‘data_text’\n",
        " td_text = table_row.td.text\n",
        " # Print the contents of ‘link_text’ and ‘data_text’ \n",
        " print(a_text)\n",
        " print(td_text)\n",
        " # Exit after printing 4 rows of data\n",
        " if i == 3:\n",
        "  break"
      ],
      "metadata": {
        "colab": {
          "base_uri": "https://localhost:8080/"
        },
        "id": "UOJYFk_lvjrI",
        "outputId": "c6c1e000-f2bf-4933-a6ec-b10f84634304"
      },
      "execution_count": 19,
      "outputs": [
        {
          "output_type": "stream",
          "name": "stdout",
          "text": [
            "20 Most Profitable Products to Sell Online in 2023\n",
            "May-14-23 11:11PM\n",
            "Seas Path to Profit Paved With Layoffs, Single-Ply Toilet Paper\n",
            "07:30PM\n",
            "Billionaire Ken Fishers Top 10 Stock Picks\n",
            "07:15PM\n",
            "4 Surprising Things About Costco's Kirkland Products\n",
            "09:30AM\n"
          ]
        }
      ]
    },
    {
      "cell_type": "code",
      "source": [
        "news_table.findAll('tr')[1].a.get_text()"
      ],
      "metadata": {
        "colab": {
          "base_uri": "https://localhost:8080/",
          "height": 35
        },
        "id": "1n_neOqLwtTn",
        "outputId": "37511d05-d077-4c5d-ff87-d9d94866555e"
      },
      "execution_count": 29,
      "outputs": [
        {
          "output_type": "execute_result",
          "data": {
            "text/plain": [
              "'Seas Path to Profit Paved With Layoffs, Single-Ply Toilet Paper'"
            ],
            "application/vnd.google.colaboratory.intrinsic+json": {
              "type": "string"
            }
          },
          "metadata": {},
          "execution_count": 29
        }
      ]
    },
    {
      "cell_type": "code",
      "source": [
        "parsed_news = []\n",
        "for file_name, news_table in news_tables.items():\n",
        "    for x in news_table.findAll('tr'):\n",
        "        if type(x.a) != type(None):\n",
        "          text = x.a.get_text() \n",
        "          date_scrape = x.td.text.split()\n",
        "          if len(date_scrape) == 1:\n",
        "              time = date_scrape[0] \n",
        "          else:\n",
        "              date = date_scrape[0]\n",
        "              time = date_scrape[1] \n",
        "          ticker = file_name.split('_')[0]\n",
        "          \n",
        "          parsed_news.append([ticker, date, time, text])\n",
        "          \n",
        "parsed_news[:5]"
      ],
      "metadata": {
        "colab": {
          "base_uri": "https://localhost:8080/"
        },
        "id": "zqdVSeK9YcOh",
        "outputId": "332c35bb-c57e-405d-ad2d-253d42c959bd"
      },
      "execution_count": 49,
      "outputs": [
        {
          "output_type": "execute_result",
          "data": {
            "text/plain": [
              "[['AMZN',\n",
              "  'May-14-23',\n",
              "  '11:11PM',\n",
              "  '20 Most Profitable Products to Sell Online in 2023'],\n",
              " ['AMZN',\n",
              "  'May-14-23',\n",
              "  '07:30PM',\n",
              "  'Seas Path to Profit Paved With Layoffs, Single-Ply Toilet Paper'],\n",
              " ['AMZN',\n",
              "  'May-14-23',\n",
              "  '07:15PM',\n",
              "  'Billionaire Ken Fishers Top 10 Stock Picks'],\n",
              " ['AMZN',\n",
              "  'May-14-23',\n",
              "  '09:30AM',\n",
              "  \"4 Surprising Things About Costco's Kirkland Products\"],\n",
              " ['AMZN',\n",
              "  'May-14-23',\n",
              "  '08:00AM',\n",
              "  'Whole Foods vs. Trader Joes  Which Store Is Better for Your Money?']]"
            ]
          },
          "metadata": {},
          "execution_count": 49
        }
      ]
    },
    {
      "cell_type": "code",
      "source": [
        "vader = SentimentIntensityAnalyzer()\n",
        "columns = ['ticker', 'date', 'time', 'headline']\n",
        "parsed_and_scored_news = pd.DataFrame(parsed_news, columns=columns)\n",
        "scores = parsed_and_scored_news['headline'].apply(vader.polarity_scores).tolist()\n",
        "scores_df = pd.DataFrame(scores)\n",
        "parsed_and_scored_news = parsed_and_scored_news.join(scores_df, rsuffix='_right')\n",
        "parsed_and_scored_news['date'] = pd.to_datetime(parsed_and_scored_news.date).dt.date\n",
        "parsed_and_scored_news.head()"
      ],
      "metadata": {
        "colab": {
          "base_uri": "https://localhost:8080/",
          "height": 206
        },
        "id": "SLg-e4HYck_O",
        "outputId": "08aedb36-4da3-4627-cf74-9e281a7fb431"
      },
      "execution_count": 50,
      "outputs": [
        {
          "output_type": "execute_result",
          "data": {
            "text/plain": [
              "  ticker        date     time  \\\n",
              "0   AMZN  2023-05-14  11:11PM   \n",
              "1   AMZN  2023-05-14  07:30PM   \n",
              "2   AMZN  2023-05-14  07:15PM   \n",
              "3   AMZN  2023-05-14  09:30AM   \n",
              "4   AMZN  2023-05-14  08:00AM   \n",
              "\n",
              "                                            headline  neg    neu    pos  \\\n",
              "0  20 Most Profitable Products to Sell Online in ...  0.0  0.715  0.285   \n",
              "1  Seas Path to Profit Paved With Layoffs, Single...  0.0  0.756  0.244   \n",
              "2         Billionaire Ken Fishers Top 10 Stock Picks  0.0  0.769  0.231   \n",
              "3  4 Surprising Things About Costco's Kirkland Pr...  0.0  0.704  0.296   \n",
              "4  Whole Foods vs. Trader Joes  Which Store Is Be...  0.0  0.791  0.209   \n",
              "\n",
              "   compound  \n",
              "0    0.4927  \n",
              "1    0.4404  \n",
              "2    0.2023  \n",
              "3    0.2732  \n",
              "4    0.4404  "
            ],
            "text/html": [
              "\n",
              "  <div id=\"df-17a2d3cc-a73d-4f3b-b5a9-291d16012520\">\n",
              "    <div class=\"colab-df-container\">\n",
              "      <div>\n",
              "<style scoped>\n",
              "    .dataframe tbody tr th:only-of-type {\n",
              "        vertical-align: middle;\n",
              "    }\n",
              "\n",
              "    .dataframe tbody tr th {\n",
              "        vertical-align: top;\n",
              "    }\n",
              "\n",
              "    .dataframe thead th {\n",
              "        text-align: right;\n",
              "    }\n",
              "</style>\n",
              "<table border=\"1\" class=\"dataframe\">\n",
              "  <thead>\n",
              "    <tr style=\"text-align: right;\">\n",
              "      <th></th>\n",
              "      <th>ticker</th>\n",
              "      <th>date</th>\n",
              "      <th>time</th>\n",
              "      <th>headline</th>\n",
              "      <th>neg</th>\n",
              "      <th>neu</th>\n",
              "      <th>pos</th>\n",
              "      <th>compound</th>\n",
              "    </tr>\n",
              "  </thead>\n",
              "  <tbody>\n",
              "    <tr>\n",
              "      <th>0</th>\n",
              "      <td>AMZN</td>\n",
              "      <td>2023-05-14</td>\n",
              "      <td>11:11PM</td>\n",
              "      <td>20 Most Profitable Products to Sell Online in ...</td>\n",
              "      <td>0.0</td>\n",
              "      <td>0.715</td>\n",
              "      <td>0.285</td>\n",
              "      <td>0.4927</td>\n",
              "    </tr>\n",
              "    <tr>\n",
              "      <th>1</th>\n",
              "      <td>AMZN</td>\n",
              "      <td>2023-05-14</td>\n",
              "      <td>07:30PM</td>\n",
              "      <td>Seas Path to Profit Paved With Layoffs, Single...</td>\n",
              "      <td>0.0</td>\n",
              "      <td>0.756</td>\n",
              "      <td>0.244</td>\n",
              "      <td>0.4404</td>\n",
              "    </tr>\n",
              "    <tr>\n",
              "      <th>2</th>\n",
              "      <td>AMZN</td>\n",
              "      <td>2023-05-14</td>\n",
              "      <td>07:15PM</td>\n",
              "      <td>Billionaire Ken Fishers Top 10 Stock Picks</td>\n",
              "      <td>0.0</td>\n",
              "      <td>0.769</td>\n",
              "      <td>0.231</td>\n",
              "      <td>0.2023</td>\n",
              "    </tr>\n",
              "    <tr>\n",
              "      <th>3</th>\n",
              "      <td>AMZN</td>\n",
              "      <td>2023-05-14</td>\n",
              "      <td>09:30AM</td>\n",
              "      <td>4 Surprising Things About Costco's Kirkland Pr...</td>\n",
              "      <td>0.0</td>\n",
              "      <td>0.704</td>\n",
              "      <td>0.296</td>\n",
              "      <td>0.2732</td>\n",
              "    </tr>\n",
              "    <tr>\n",
              "      <th>4</th>\n",
              "      <td>AMZN</td>\n",
              "      <td>2023-05-14</td>\n",
              "      <td>08:00AM</td>\n",
              "      <td>Whole Foods vs. Trader Joes  Which Store Is Be...</td>\n",
              "      <td>0.0</td>\n",
              "      <td>0.791</td>\n",
              "      <td>0.209</td>\n",
              "      <td>0.4404</td>\n",
              "    </tr>\n",
              "  </tbody>\n",
              "</table>\n",
              "</div>\n",
              "      <button class=\"colab-df-convert\" onclick=\"convertToInteractive('df-17a2d3cc-a73d-4f3b-b5a9-291d16012520')\"\n",
              "              title=\"Convert this dataframe to an interactive table.\"\n",
              "              style=\"display:none;\">\n",
              "        \n",
              "  <svg xmlns=\"http://www.w3.org/2000/svg\" height=\"24px\"viewBox=\"0 0 24 24\"\n",
              "       width=\"24px\">\n",
              "    <path d=\"M0 0h24v24H0V0z\" fill=\"none\"/>\n",
              "    <path d=\"M18.56 5.44l.94 2.06.94-2.06 2.06-.94-2.06-.94-.94-2.06-.94 2.06-2.06.94zm-11 1L8.5 8.5l.94-2.06 2.06-.94-2.06-.94L8.5 2.5l-.94 2.06-2.06.94zm10 10l.94 2.06.94-2.06 2.06-.94-2.06-.94-.94-2.06-.94 2.06-2.06.94z\"/><path d=\"M17.41 7.96l-1.37-1.37c-.4-.4-.92-.59-1.43-.59-.52 0-1.04.2-1.43.59L10.3 9.45l-7.72 7.72c-.78.78-.78 2.05 0 2.83L4 21.41c.39.39.9.59 1.41.59.51 0 1.02-.2 1.41-.59l7.78-7.78 2.81-2.81c.8-.78.8-2.07 0-2.86zM5.41 20L4 18.59l7.72-7.72 1.47 1.35L5.41 20z\"/>\n",
              "  </svg>\n",
              "      </button>\n",
              "      \n",
              "  <style>\n",
              "    .colab-df-container {\n",
              "      display:flex;\n",
              "      flex-wrap:wrap;\n",
              "      gap: 12px;\n",
              "    }\n",
              "\n",
              "    .colab-df-convert {\n",
              "      background-color: #E8F0FE;\n",
              "      border: none;\n",
              "      border-radius: 50%;\n",
              "      cursor: pointer;\n",
              "      display: none;\n",
              "      fill: #1967D2;\n",
              "      height: 32px;\n",
              "      padding: 0 0 0 0;\n",
              "      width: 32px;\n",
              "    }\n",
              "\n",
              "    .colab-df-convert:hover {\n",
              "      background-color: #E2EBFA;\n",
              "      box-shadow: 0px 1px 2px rgba(60, 64, 67, 0.3), 0px 1px 3px 1px rgba(60, 64, 67, 0.15);\n",
              "      fill: #174EA6;\n",
              "    }\n",
              "\n",
              "    [theme=dark] .colab-df-convert {\n",
              "      background-color: #3B4455;\n",
              "      fill: #D2E3FC;\n",
              "    }\n",
              "\n",
              "    [theme=dark] .colab-df-convert:hover {\n",
              "      background-color: #434B5C;\n",
              "      box-shadow: 0px 1px 3px 1px rgba(0, 0, 0, 0.15);\n",
              "      filter: drop-shadow(0px 1px 2px rgba(0, 0, 0, 0.3));\n",
              "      fill: #FFFFFF;\n",
              "    }\n",
              "  </style>\n",
              "\n",
              "      <script>\n",
              "        const buttonEl =\n",
              "          document.querySelector('#df-17a2d3cc-a73d-4f3b-b5a9-291d16012520 button.colab-df-convert');\n",
              "        buttonEl.style.display =\n",
              "          google.colab.kernel.accessAllowed ? 'block' : 'none';\n",
              "\n",
              "        async function convertToInteractive(key) {\n",
              "          const element = document.querySelector('#df-17a2d3cc-a73d-4f3b-b5a9-291d16012520');\n",
              "          const dataTable =\n",
              "            await google.colab.kernel.invokeFunction('convertToInteractive',\n",
              "                                                     [key], {});\n",
              "          if (!dataTable) return;\n",
              "\n",
              "          const docLinkHtml = 'Like what you see? Visit the ' +\n",
              "            '<a target=\"_blank\" href=https://colab.research.google.com/notebooks/data_table.ipynb>data table notebook</a>'\n",
              "            + ' to learn more about interactive tables.';\n",
              "          element.innerHTML = '';\n",
              "          dataTable['output_type'] = 'display_data';\n",
              "          await google.colab.output.renderOutput(dataTable, element);\n",
              "          const docLink = document.createElement('div');\n",
              "          docLink.innerHTML = docLinkHtml;\n",
              "          element.appendChild(docLink);\n",
              "        }\n",
              "      </script>\n",
              "    </div>\n",
              "  </div>\n",
              "  "
            ]
          },
          "metadata": {},
          "execution_count": 50
        }
      ]
    },
    {
      "cell_type": "code",
      "source": [
        "amzn_scored_news = parsed_and_scored_news[parsed_and_scored_news['ticker'] == 'AMZN']\n",
        "tsla_scored_news = parsed_and_scored_news[parsed_and_scored_news['ticker'] == 'TSLA']\n",
        "goog_scored_news = parsed_and_scored_news[parsed_and_scored_news['ticker'] == 'GOOG']"
      ],
      "metadata": {
        "id": "d_Q7KVq_oTzP"
      },
      "execution_count": 51,
      "outputs": []
    },
    {
      "cell_type": "code",
      "source": [
        "import yfinance as yf"
      ],
      "metadata": {
        "id": "nvWzSEzU0vGU"
      },
      "execution_count": 52,
      "outputs": []
    },
    {
      "cell_type": "code",
      "source": [
        "amzn = yf.Ticker('AMZN')\n",
        "amzn_price = amzn.history(interval='1m', start=amzn_scored_news['date'].iloc[-1], end=amzn_scored_news['date'].iloc[0])['Close']\n",
        "amzn_price.index = amzn_price.index.tz_convert(None)"
      ],
      "metadata": {
        "id": "FUdke_MAEHkD"
      },
      "execution_count": 62,
      "outputs": []
    },
    {
      "cell_type": "code",
      "source": [
        "from datetime import datetime\n",
        "datetime_objs = []\n",
        "for index, row in amzn_scored_news.iterrows():\n",
        "    datetime_str = datetime.strftime(row['date'], '%Y-%m-%d') + ' ' + row['time']\n",
        "    datetime_obj = datetime.strptime(datetime_str, '%Y-%m-%d %I:%M%p')\n",
        "    datetime_objs.append(datetime_obj)"
      ],
      "metadata": {
        "id": "cJc0Si-mL6oy"
      },
      "execution_count": 63,
      "outputs": []
    },
    {
      "cell_type": "code",
      "source": [
        "amzn_signal = amzn_scored_news[['neg', 'pos']]\n",
        "amzn_signal.index = datetime_objs\n",
        "amzn_signal = amzn_signal[str(amzn_price.index[0]):str(amzn_price.index[-1])].sort_index()\n",
        "amzn_signal"
      ],
      "metadata": {
        "colab": {
          "base_uri": "https://localhost:8080/",
          "height": 458
        },
        "id": "PS7GedjNORpq",
        "outputId": "1064d96e-6de6-4bc8-f4bb-60b3eee0cd4b"
      },
      "execution_count": 68,
      "outputs": [
        {
          "output_type": "stream",
          "name": "stderr",
          "text": [
            "<ipython-input-68-242022668aed>:3: FutureWarning: Value based partial slicing on non-monotonic DatetimeIndexes with non-existing keys is deprecated and will raise a KeyError in a future Version.\n",
            "  amzn_signal = amzn_signal[str(amzn_price.index[0]):str(amzn_price.index[-1])].sort_index()\n"
          ]
        },
        {
          "output_type": "execute_result",
          "data": {
            "text/plain": [
              "                     neg    pos\n",
              "2023-05-08 13:31:00  0.0  0.322\n",
              "2023-05-08 13:35:00  0.0  0.145\n",
              "2023-05-08 14:05:00  0.0  0.752\n",
              "2023-05-08 14:40:00  0.0  0.175\n",
              "2023-05-08 15:56:00  0.0  0.000\n",
              "...                  ...    ...\n",
              "2023-05-12 15:53:00  0.0  0.000\n",
              "2023-05-12 16:00:00  0.0  0.438\n",
              "2023-05-12 16:08:00  0.0  0.000\n",
              "2023-05-12 16:18:00  0.0  0.000\n",
              "2023-05-12 16:30:00  0.0  0.178\n",
              "\n",
              "[85 rows x 2 columns]"
            ],
            "text/html": [
              "\n",
              "  <div id=\"df-249f0273-a60d-4c05-9c51-efc9ab00589a\">\n",
              "    <div class=\"colab-df-container\">\n",
              "      <div>\n",
              "<style scoped>\n",
              "    .dataframe tbody tr th:only-of-type {\n",
              "        vertical-align: middle;\n",
              "    }\n",
              "\n",
              "    .dataframe tbody tr th {\n",
              "        vertical-align: top;\n",
              "    }\n",
              "\n",
              "    .dataframe thead th {\n",
              "        text-align: right;\n",
              "    }\n",
              "</style>\n",
              "<table border=\"1\" class=\"dataframe\">\n",
              "  <thead>\n",
              "    <tr style=\"text-align: right;\">\n",
              "      <th></th>\n",
              "      <th>neg</th>\n",
              "      <th>pos</th>\n",
              "    </tr>\n",
              "  </thead>\n",
              "  <tbody>\n",
              "    <tr>\n",
              "      <th>2023-05-08 13:31:00</th>\n",
              "      <td>0.0</td>\n",
              "      <td>0.322</td>\n",
              "    </tr>\n",
              "    <tr>\n",
              "      <th>2023-05-08 13:35:00</th>\n",
              "      <td>0.0</td>\n",
              "      <td>0.145</td>\n",
              "    </tr>\n",
              "    <tr>\n",
              "      <th>2023-05-08 14:05:00</th>\n",
              "      <td>0.0</td>\n",
              "      <td>0.752</td>\n",
              "    </tr>\n",
              "    <tr>\n",
              "      <th>2023-05-08 14:40:00</th>\n",
              "      <td>0.0</td>\n",
              "      <td>0.175</td>\n",
              "    </tr>\n",
              "    <tr>\n",
              "      <th>2023-05-08 15:56:00</th>\n",
              "      <td>0.0</td>\n",
              "      <td>0.000</td>\n",
              "    </tr>\n",
              "    <tr>\n",
              "      <th>...</th>\n",
              "      <td>...</td>\n",
              "      <td>...</td>\n",
              "    </tr>\n",
              "    <tr>\n",
              "      <th>2023-05-12 15:53:00</th>\n",
              "      <td>0.0</td>\n",
              "      <td>0.000</td>\n",
              "    </tr>\n",
              "    <tr>\n",
              "      <th>2023-05-12 16:00:00</th>\n",
              "      <td>0.0</td>\n",
              "      <td>0.438</td>\n",
              "    </tr>\n",
              "    <tr>\n",
              "      <th>2023-05-12 16:08:00</th>\n",
              "      <td>0.0</td>\n",
              "      <td>0.000</td>\n",
              "    </tr>\n",
              "    <tr>\n",
              "      <th>2023-05-12 16:18:00</th>\n",
              "      <td>0.0</td>\n",
              "      <td>0.000</td>\n",
              "    </tr>\n",
              "    <tr>\n",
              "      <th>2023-05-12 16:30:00</th>\n",
              "      <td>0.0</td>\n",
              "      <td>0.178</td>\n",
              "    </tr>\n",
              "  </tbody>\n",
              "</table>\n",
              "<p>85 rows × 2 columns</p>\n",
              "</div>\n",
              "      <button class=\"colab-df-convert\" onclick=\"convertToInteractive('df-249f0273-a60d-4c05-9c51-efc9ab00589a')\"\n",
              "              title=\"Convert this dataframe to an interactive table.\"\n",
              "              style=\"display:none;\">\n",
              "        \n",
              "  <svg xmlns=\"http://www.w3.org/2000/svg\" height=\"24px\"viewBox=\"0 0 24 24\"\n",
              "       width=\"24px\">\n",
              "    <path d=\"M0 0h24v24H0V0z\" fill=\"none\"/>\n",
              "    <path d=\"M18.56 5.44l.94 2.06.94-2.06 2.06-.94-2.06-.94-.94-2.06-.94 2.06-2.06.94zm-11 1L8.5 8.5l.94-2.06 2.06-.94-2.06-.94L8.5 2.5l-.94 2.06-2.06.94zm10 10l.94 2.06.94-2.06 2.06-.94-2.06-.94-.94-2.06-.94 2.06-2.06.94z\"/><path d=\"M17.41 7.96l-1.37-1.37c-.4-.4-.92-.59-1.43-.59-.52 0-1.04.2-1.43.59L10.3 9.45l-7.72 7.72c-.78.78-.78 2.05 0 2.83L4 21.41c.39.39.9.59 1.41.59.51 0 1.02-.2 1.41-.59l7.78-7.78 2.81-2.81c.8-.78.8-2.07 0-2.86zM5.41 20L4 18.59l7.72-7.72 1.47 1.35L5.41 20z\"/>\n",
              "  </svg>\n",
              "      </button>\n",
              "      \n",
              "  <style>\n",
              "    .colab-df-container {\n",
              "      display:flex;\n",
              "      flex-wrap:wrap;\n",
              "      gap: 12px;\n",
              "    }\n",
              "\n",
              "    .colab-df-convert {\n",
              "      background-color: #E8F0FE;\n",
              "      border: none;\n",
              "      border-radius: 50%;\n",
              "      cursor: pointer;\n",
              "      display: none;\n",
              "      fill: #1967D2;\n",
              "      height: 32px;\n",
              "      padding: 0 0 0 0;\n",
              "      width: 32px;\n",
              "    }\n",
              "\n",
              "    .colab-df-convert:hover {\n",
              "      background-color: #E2EBFA;\n",
              "      box-shadow: 0px 1px 2px rgba(60, 64, 67, 0.3), 0px 1px 3px 1px rgba(60, 64, 67, 0.15);\n",
              "      fill: #174EA6;\n",
              "    }\n",
              "\n",
              "    [theme=dark] .colab-df-convert {\n",
              "      background-color: #3B4455;\n",
              "      fill: #D2E3FC;\n",
              "    }\n",
              "\n",
              "    [theme=dark] .colab-df-convert:hover {\n",
              "      background-color: #434B5C;\n",
              "      box-shadow: 0px 1px 3px 1px rgba(0, 0, 0, 0.15);\n",
              "      filter: drop-shadow(0px 1px 2px rgba(0, 0, 0, 0.3));\n",
              "      fill: #FFFFFF;\n",
              "    }\n",
              "  </style>\n",
              "\n",
              "      <script>\n",
              "        const buttonEl =\n",
              "          document.querySelector('#df-249f0273-a60d-4c05-9c51-efc9ab00589a button.colab-df-convert');\n",
              "        buttonEl.style.display =\n",
              "          google.colab.kernel.accessAllowed ? 'block' : 'none';\n",
              "\n",
              "        async function convertToInteractive(key) {\n",
              "          const element = document.querySelector('#df-249f0273-a60d-4c05-9c51-efc9ab00589a');\n",
              "          const dataTable =\n",
              "            await google.colab.kernel.invokeFunction('convertToInteractive',\n",
              "                                                     [key], {});\n",
              "          if (!dataTable) return;\n",
              "\n",
              "          const docLinkHtml = 'Like what you see? Visit the ' +\n",
              "            '<a target=\"_blank\" href=https://colab.research.google.com/notebooks/data_table.ipynb>data table notebook</a>'\n",
              "            + ' to learn more about interactive tables.';\n",
              "          element.innerHTML = '';\n",
              "          dataTable['output_type'] = 'display_data';\n",
              "          await google.colab.output.renderOutput(dataTable, element);\n",
              "          const docLink = document.createElement('div');\n",
              "          docLink.innerHTML = docLinkHtml;\n",
              "          element.appendChild(docLink);\n",
              "        }\n",
              "      </script>\n",
              "    </div>\n",
              "  </div>\n",
              "  "
            ]
          },
          "metadata": {},
          "execution_count": 68
        }
      ]
    },
    {
      "cell_type": "code",
      "source": [
        "amzn_trade = pd.merge(amzn_price, amzn_signal, left_index=True, right_index=True)\n",
        "amzn_trade['position'] = amzn_trade['pos'] - amzn_trade['neg']\n",
        "amzn_trade['return'] = amzn_trade['Close'].pct_change().shift(-1)\n",
        "ret = amzn_trade['position']*amzn_trade['return']\n",
        "(1+ret).cumprod()"
      ],
      "metadata": {
        "colab": {
          "base_uri": "https://localhost:8080/"
        },
        "id": "J2ohLVmETg-N",
        "outputId": "9b9bbd49-f54f-4393-d2dc-fea6a906203f"
      },
      "execution_count": 76,
      "outputs": [
        {
          "output_type": "execute_result",
          "data": {
            "text/plain": [
              "2023-05-08 13:31:00    1.000583\n",
              "2023-05-08 13:35:00    1.000831\n",
              "2023-05-08 14:05:00    1.000068\n",
              "2023-05-08 14:40:00    1.000162\n",
              "2023-05-08 15:56:00    1.000162\n",
              "2023-05-08 16:42:00    1.000959\n",
              "2023-05-08 17:23:00    1.001505\n",
              "2023-05-08 18:59:00    1.002613\n",
              "2023-05-09 15:01:00    1.003024\n",
              "2023-05-09 15:36:00    1.002439\n",
              "2023-05-09 16:00:00    1.004360\n",
              "2023-05-09 17:25:00    1.004360\n",
              "2023-05-10 14:47:00    1.003922\n",
              "2023-05-10 14:56:00    1.001609\n",
              "2023-05-10 15:39:00    1.001609\n",
              "2023-05-10 15:39:00    1.000877\n",
              "2023-05-10 17:15:00    1.000580\n",
              "2023-05-10 18:00:00    1.001683\n",
              "2023-05-10 19:00:00    1.002762\n",
              "2023-05-10 19:54:00    1.003841\n",
              "2023-05-11 13:36:00    1.004921\n",
              "2023-05-11 14:06:00    1.004180\n",
              "2023-05-11 16:35:00    1.004607\n",
              "2023-05-11 16:43:00    1.004593\n",
              "2023-05-11 19:05:00    1.005282\n",
              "2023-05-11 19:42:00    1.007920\n",
              "2023-05-12 15:06:00    1.005985\n",
              "2023-05-12 15:37:00    1.006017\n",
              "2023-05-12 15:53:00    1.006017\n",
              "2023-05-12 16:00:00    1.005101\n",
              "2023-05-12 16:08:00    1.005101\n",
              "2023-05-12 16:18:00    1.005101\n",
              "2023-05-12 16:30:00         NaN\n",
              "dtype: float64"
            ]
          },
          "metadata": {},
          "execution_count": 76
        }
      ]
    },
    {
      "cell_type": "code",
      "source": [
        "|"
      ],
      "metadata": {
        "id": "Si_zNknpcktn"
      },
      "execution_count": null,
      "outputs": []
    }
  ]
}